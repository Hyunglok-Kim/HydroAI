{
 "cells": [
  {
   "cell_type": "code",
   "execution_count": 1,
   "id": "347d863f-14bc-4faa-a4a9-72bbef736ad1",
   "metadata": {},
   "outputs": [],
   "source": [
    "import sys\n",
    "import os\n",
    "import platform\n",
    "import importlib\n",
    "import glob\n",
    "\n",
    "import numpy as np\n",
    "import pandas as pd\n",
    "import netCDF4\n",
    "import datetime\n",
    "\n",
    "if platform.system() == 'Darwin':  # macOS\n",
    "    base_FP = '/Users/hyunglokkim/Insync/hkim@geol.sc.edu/Google_Drive'\n",
    "    sys.path.append(base_FP + '/python_modules')\n",
    "    nc_save_dir = '/Users/hyunglokkim/cpuserver_data'\n",
    "else:\n",
    "    base_FP = '/home/h/Insync/hkim@geol.sc.edu/Google Drive'\n",
    "    sys.path.append(base_FP + '/python_modules')\n",
    "    nc_save_dir = '/data'\n",
    "    \n",
    "import hydroAI.SMOS_IC as hSMOS_IC\n",
    "import hydroAI.ASCAT_TUW as hASCAT_TUW\n",
    "import hydroAI.Plot as Plot\n",
    "import hydroAI.Data as Data\n",
    "importlib.reload(hSMOS_IC);\n",
    "importlib.reload(hASCAT_TUW);\n",
    "importlib.reload(Data);\n",
    "import warnings\n",
    "\n",
    "# Ignore runtime warnings\n",
    "warnings.filterwarnings(\"ignore\")"
   ]
  },
  {
   "cell_type": "code",
   "execution_count": 2,
   "id": "14bdccdf-45ce-4de9-bfa8-980710d2afe3",
   "metadata": {},
   "outputs": [],
   "source": [
    "resampled_nc = os.path.join(nc_save_dir, 'extracted_nc')"
   ]
  },
  {
   "cell_type": "code",
   "execution_count": null,
   "id": "3dce80b9-4492-4e2a-9157-6b362f904cfa",
   "metadata": {},
   "outputs": [
    {
     "name": "stdout",
     "output_type": "stream",
     "text": [
      "SMOS_IC\n",
      "ASCAT_TUW\n",
      "SMAP_SM\n",
      "SMOS_IC\n",
      "ASCAT_TUW\n",
      "SMAP_SM\n",
      "SMOS_IC\n",
      "ASCAT_TUW\n",
      "SMAP_SM\n"
     ]
    }
   ],
   "source": [
    "# Define your paths, products, and years\n",
    "path_list = ['am', 'pm']\n",
    "product_list = ['SMOS_IC', 'ASCAT_TUW', 'SMAP_SM']  # Include SMAP_SM in the product list\n",
    "years = range(2015, 2023)\n",
    "\n",
    "# Initialize arrays to None\n",
    "SMOS_SM_3d  = None\n",
    "SMOS_RFI_3d = None\n",
    "ASCAT_SM_3d = None\n",
    "SMAP_SM_3d  = None \n",
    "SMAP_tb4_3d = None\n",
    "# Loop over each year, path, and product\n",
    "for year in years:\n",
    "    for path in path_list:\n",
    "        for product in product_list:\n",
    "            print(product)\n",
    "            # Check the product and construct the file path accordingly\n",
    "            if product in ['SMOS_IC', 'ASCAT_TUW']:\n",
    "                # File path for SMOS_IC and ASCAT_TUW\n",
    "                nc_file = os.path.join(resampled_nc, f'{product}_{year}_{path}_R_SPL3SMP.008.nc')\n",
    "            elif product == 'SMAP_SM':\n",
    "                # File path for SMAP_SM\n",
    "                nc_file = os.path.join(resampled_nc, f'SPL3SMP.008_{year}_{path}.nc')\n",
    "            \n",
    "            # Open the netCDF file\n",
    "            nc_data = netCDF4.Dataset(nc_file)\n",
    "            \n",
    "            if product == 'SMOS_IC':\n",
    "                # Extract the SMOS data\n",
    "                t_SMOS_SM = nc_data.variables['SMOS_SM'][:].data\n",
    "                t_SMOS_RFI = nc_data.variables['SMOS_RFI'][:].data\n",
    "                \n",
    "                # Concatenate the data\n",
    "                SMOS_SM_3d = t_SMOS_SM if SMOS_SM_3d is None else np.concatenate((SMOS_SM_3d, t_SMOS_SM), axis=2)\n",
    "                SMOS_RFI_3d = t_SMOS_RFI if SMOS_RFI_3d is None else np.concatenate((SMOS_RFI_3d, t_SMOS_RFI), axis=2)\n",
    "            elif product == 'ASCAT_TUW':\n",
    "                # Extract the ASCAT data\n",
    "                t_ASCAT_SM = nc_data.variables['ASCAT_SM'][:].data\n",
    "                \n",
    "                # Concatenate the data\n",
    "                ASCAT_SM_3d = t_ASCAT_SM if ASCAT_SM_3d is None else np.concatenate((ASCAT_SM_3d, t_ASCAT_SM), axis=2)\n",
    "            elif product == 'SMAP_SM':\n",
    "                # Extract the SMAP data\n",
    "                if path == 'pm':\n",
    "                    t_SMAP_SM = nc_data.variables['soil_moisture_'+path][:].data\n",
    "                    t_SMAP_tb4 = nc_data.variables['tb_qual_flag_4_'+path][:].data\n",
    "                else:\n",
    "                    t_SMAP_SM = nc_data.variables['soil_moisture'][:].data\n",
    "                    t_SMAP_tb4 = nc_data.variables['tb_qual_flag_4'][:].data\n",
    "                \n",
    "                # Concatenate the data\n",
    "                SMAP_SM_3d = t_SMAP_SM if SMAP_SM_3d is None else np.concatenate((SMAP_SM_3d, t_SMAP_SM), axis=2)\n",
    "                SMAP_SM_tb4 = t_SMAP_tb4 if SMAP_tb4_3d is None else np.concatenate((SMAP_3d_tb4, t_SMAP_tb4), axis=2)\n",
    "            \n",
    "            # Close the netCDF file\n",
    "            nc_data.close()"
   ]
  },
  {
   "cell_type": "code",
   "execution_count": null,
   "id": "f95bac0f-4343-42b2-b556-73290682c3e6",
   "metadata": {},
   "outputs": [],
   "source": []
  },
  {
   "cell_type": "code",
   "execution_count": null,
   "id": "0318491c-ec82-4867-b04e-1352734b6c57",
   "metadata": {},
   "outputs": [],
   "source": []
  }
 ],
 "metadata": {
  "kernelspec": {
   "display_name": "Python 3 (ipykernel)",
   "language": "python",
   "name": "python3"
  },
  "language_info": {
   "codemirror_mode": {
    "name": "ipython",
    "version": 3
   },
   "file_extension": ".py",
   "mimetype": "text/x-python",
   "name": "python",
   "nbconvert_exporter": "python",
   "pygments_lexer": "ipython3",
   "version": "3.12.0"
  }
 },
 "nbformat": 4,
 "nbformat_minor": 5
}
