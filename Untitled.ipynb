{
 "cells": [
  {
   "cell_type": "code",
   "execution_count": 3,
   "id": "8b15b12a-0f91-4929-a8a8-ba7fe45bdbcf",
   "metadata": {},
   "outputs": [
    {
     "ename": "Exception",
     "evalue": "Missing/incomplete configuration file: /Users/hyunglokkim/.cdsapirc",
     "output_type": "error",
     "traceback": [
      "\u001b[0;31m---------------------------------------------------------------------------\u001b[0m",
      "\u001b[0;31mException\u001b[0m                                 Traceback (most recent call last)",
      "Cell \u001b[0;32mIn[3], line 3\u001b[0m\n\u001b[1;32m      1\u001b[0m \u001b[38;5;28;01mimport\u001b[39;00m \u001b[38;5;21;01mcdsapi\u001b[39;00m\n\u001b[0;32m----> 3\u001b[0m c \u001b[38;5;241m=\u001b[39m \u001b[43mcdsapi\u001b[49m\u001b[38;5;241;43m.\u001b[39;49m\u001b[43mClient\u001b[49m\u001b[43m(\u001b[49m\u001b[43m)\u001b[49m\n\u001b[1;32m      5\u001b[0m c\u001b[38;5;241m.\u001b[39mretrieve(\n\u001b[1;32m      6\u001b[0m     \u001b[38;5;124m'\u001b[39m\u001b[38;5;124mreanalysis-era5-land-monthly-means\u001b[39m\u001b[38;5;124m'\u001b[39m,\n\u001b[1;32m      7\u001b[0m     {\n\u001b[0;32m   (...)\u001b[0m\n\u001b[1;32m     55\u001b[0m     },\n\u001b[1;32m     56\u001b[0m     \u001b[38;5;124m'\u001b[39m\u001b[38;5;124mdownload.netcdf.zip\u001b[39m\u001b[38;5;124m'\u001b[39m)\n",
      "File \u001b[0;32m/opt/homebrew/Caskroom/miniforge/base/envs/hydroai/lib/python3.12/site-packages/cdsapi/api.py:281\u001b[0m, in \u001b[0;36mClient.__new__\u001b[0;34m(cls, url, key, *args, **kwargs)\u001b[0m\n\u001b[1;32m    280\u001b[0m \u001b[38;5;28;01mdef\u001b[39;00m \u001b[38;5;21m__new__\u001b[39m(\u001b[38;5;28mcls\u001b[39m, url\u001b[38;5;241m=\u001b[39m\u001b[38;5;28;01mNone\u001b[39;00m, key\u001b[38;5;241m=\u001b[39m\u001b[38;5;28;01mNone\u001b[39;00m, \u001b[38;5;241m*\u001b[39margs, \u001b[38;5;241m*\u001b[39m\u001b[38;5;241m*\u001b[39mkwargs):\n\u001b[0;32m--> 281\u001b[0m     _, token, _ \u001b[38;5;241m=\u001b[39m \u001b[43mget_url_key_verify\u001b[49m\u001b[43m(\u001b[49m\u001b[43murl\u001b[49m\u001b[43m,\u001b[49m\u001b[43m \u001b[49m\u001b[43mkey\u001b[49m\u001b[43m,\u001b[49m\u001b[43m \u001b[49m\u001b[38;5;28;43;01mNone\u001b[39;49;00m\u001b[43m)\u001b[49m\n\u001b[1;32m    282\u001b[0m     \u001b[38;5;28;01mif\u001b[39;00m \u001b[38;5;124m\"\u001b[39m\u001b[38;5;124m:\u001b[39m\u001b[38;5;124m\"\u001b[39m \u001b[38;5;129;01min\u001b[39;00m token:\n\u001b[1;32m    283\u001b[0m         \u001b[38;5;28;01mreturn\u001b[39;00m \u001b[38;5;28msuper\u001b[39m()\u001b[38;5;241m.\u001b[39m\u001b[38;5;21m__new__\u001b[39m(\u001b[38;5;28mcls\u001b[39m)\n",
      "File \u001b[0;32m/opt/homebrew/Caskroom/miniforge/base/envs/hydroai/lib/python3.12/site-packages/cdsapi/api.py:69\u001b[0m, in \u001b[0;36mget_url_key_verify\u001b[0;34m(url, key, verify)\u001b[0m\n\u001b[1;32m     66\u001b[0m             verify \u001b[38;5;241m=\u001b[39m \u001b[38;5;28mbool\u001b[39m(\u001b[38;5;28mint\u001b[39m(config\u001b[38;5;241m.\u001b[39mget(\u001b[38;5;124m\"\u001b[39m\u001b[38;5;124mverify\u001b[39m\u001b[38;5;124m\"\u001b[39m, \u001b[38;5;241m1\u001b[39m)))\n\u001b[1;32m     68\u001b[0m \u001b[38;5;28;01mif\u001b[39;00m url \u001b[38;5;129;01mis\u001b[39;00m \u001b[38;5;28;01mNone\u001b[39;00m \u001b[38;5;129;01mor\u001b[39;00m key \u001b[38;5;129;01mis\u001b[39;00m \u001b[38;5;28;01mNone\u001b[39;00m \u001b[38;5;129;01mor\u001b[39;00m key \u001b[38;5;129;01mis\u001b[39;00m \u001b[38;5;28;01mNone\u001b[39;00m:\n\u001b[0;32m---> 69\u001b[0m     \u001b[38;5;28;01mraise\u001b[39;00m \u001b[38;5;167;01mException\u001b[39;00m(\u001b[38;5;124m\"\u001b[39m\u001b[38;5;124mMissing/incomplete configuration file: \u001b[39m\u001b[38;5;132;01m%s\u001b[39;00m\u001b[38;5;124m\"\u001b[39m \u001b[38;5;241m%\u001b[39m (dotrc))\n\u001b[1;32m     71\u001b[0m \u001b[38;5;66;03m# If verify is still None, then we set to default value of True\u001b[39;00m\n\u001b[1;32m     72\u001b[0m \u001b[38;5;28;01mif\u001b[39;00m verify \u001b[38;5;129;01mis\u001b[39;00m \u001b[38;5;28;01mNone\u001b[39;00m:\n",
      "\u001b[0;31mException\u001b[0m: Missing/incomplete configuration file: /Users/hyunglokkim/.cdsapirc"
     ]
    }
   ],
   "source": [
    "import cdsapi\n",
    "\n",
    "c = cdsapi.Client()\n",
    "\n",
    "c.retrieve(\n",
    "    'reanalysis-era5-land-monthly-means',\n",
    "    {\n",
    "        'product_type': 'monthly_averaged_reanalysis',\n",
    "        'area': [\n",
    "            43, 124, 33,\n",
    "            131,\n",
    "        ],\n",
    "        'format': 'netcdf.zip',\n",
    "        'year': [\n",
    "            '1950', '1951', '1952',\n",
    "            '1953', '1954', '1955',\n",
    "            '1956', '1957', '1958',\n",
    "            '1959', '1960', '1961',\n",
    "            '1962', '1963', '1964',\n",
    "            '1965', '1966', '1967',\n",
    "            '1968', '1969', '1970',\n",
    "            '1971', '1972', '1973',\n",
    "            '1974', '1975', '1976',\n",
    "            '1977', '1978', '1979',\n",
    "            '1980', '1981', '1982',\n",
    "            '1983', '1984', '1985',\n",
    "            '1986', '1987', '1988',\n",
    "            '1989', '1990', '1991',\n",
    "            '1992', '1993', '1994',\n",
    "            '1995', '1996', '1997',\n",
    "            '1998', '1999', '2000',\n",
    "            '2001', '2002', '2003',\n",
    "            '2004', '2005', '2006',\n",
    "            '2007', '2008', '2009',\n",
    "            '2010', '2011', '2012',\n",
    "            '2013', '2014', '2015',\n",
    "            '2016', '2017', '2018',\n",
    "            '2019', '2020', '2021',\n",
    "            '2022', '2023', '2024',\n",
    "        ],\n",
    "        'month': [\n",
    "            '01', '02', '03',\n",
    "            '04', '05', '06',\n",
    "            '07', '08', '09',\n",
    "            '10', '11', '12',\n",
    "        ],\n",
    "        'time': '00:00',\n",
    "        'variable': [\n",
    "            '2m_temperature', 'evaporation_from_bare_soil', 'evaporation_from_the_top_of_canopy',\n",
    "            'evaporation_from_vegetation_transpiration', 'leaf_area_index_high_vegetation', 'potential_evaporation',\n",
    "            'skin_temperature', 'snow_evaporation', 'soil_temperature_level_1',\n",
    "            'surface_runoff', 'total_evaporation', 'total_precipitation',\n",
    "            'volumetric_soil_water_layer_1',\n",
    "        ],\n",
    "    },\n",
    "    'download.netcdf.zip')"
   ]
  }
 ],
 "metadata": {
  "kernelspec": {
   "display_name": "Python 3 (ipykernel)",
   "language": "python",
   "name": "python3"
  },
  "language_info": {
   "codemirror_mode": {
    "name": "ipython",
    "version": 3
   },
   "file_extension": ".py",
   "mimetype": "text/x-python",
   "name": "python",
   "nbconvert_exporter": "python",
   "pygments_lexer": "ipython3",
   "version": "3.12.3"
  }
 },
 "nbformat": 4,
 "nbformat_minor": 5
}
