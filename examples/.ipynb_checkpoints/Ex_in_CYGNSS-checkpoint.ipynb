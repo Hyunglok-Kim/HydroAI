{
 "cells": [
  {
   "cell_type": "code",
   "execution_count": 54,
   "id": "80f92e48-4634-4621-82fa-af7a8cc220a3",
   "metadata": {},
   "outputs": [],
   "source": [
    "import os\n",
    "import glob\n",
    "\n",
    "import netCDF4 as nc\n",
    "import numpy as np\n",
    "from scipy.spatial import cKDTree\n",
    "import matplotlib.pyplot as plt"
   ]
  },
  {
   "cell_type": "code",
   "execution_count": 27,
   "id": "ea91ae38-33d5-47cf-9f55-6c0e48f13f16",
   "metadata": {},
   "outputs": [],
   "source": [
    "import sys\n",
    "import platform\n",
    "import importlib\n",
    "\n",
    "if platform.system() == 'Darwin':  # macOS\n",
    "    base_FP = '/Users/hyunglokkim/Insync/hkim@geol.sc.edu/Google_Drive'\n",
    "    cpuserver_data_FP = '/Users/hyunglokkim/cpuserver_data'\n",
    "else:\n",
    "    base_FP = '/data'\n",
    "    cpuserver_data_FP = '/data'\n",
    "sys.path.append(base_FP + '/python_modules')\n",
    "\n",
    "import HydroAI.SMAP as hSMAP\n",
    "importlib.reload(hSMAP);"
   ]
  },
  {
   "cell_type": "code",
   "execution_count": 12,
   "id": "8a100c04-1ad9-48be-8013-cd316cef7eea",
   "metadata": {},
   "outputs": [],
   "source": [
    "def list_nc_files(base_dir):\n",
    "    # This function will return a list of all .nc files in the directory and its subdirectories\n",
    "    nc_files = []\n",
    "    # Walk through the directory\n",
    "    for root, dirs, files in os.walk(base_dir):\n",
    "        # Filter for .nc files\n",
    "        for file in files:\n",
    "            if file.endswith(\".nc4\"):\n",
    "                full_path = os.path.join(root, file)\n",
    "                nc_files.append(full_path)\n",
    "    \n",
    "    nc_files.sort() \n",
    "    return nc_files\n",
    "\n",
    "# Base directory containing the 'L1_V21' folder\n",
    "base_dir = \"/Users/hyunglokkim/cpuserver_data/CYGNSS/L1_V21\"\n",
    "\n",
    "# Call the function and get the list of .nc files\n",
    "nc_file_list = list_nc_files(base_dir)\n",
    "\n",
    "# Print out the list of files\n",
    "#for file in nc_file_list:\n",
    "#    print(file)"
   ]
  },
  {
   "cell_type": "code",
   "execution_count": 17,
   "id": "aa4c8ab7-ff38-4554-967d-7341a782b148",
   "metadata": {},
   "outputs": [],
   "source": [
    "nc_save_dir = cpuserver_data_FP + '/extracted_nc'"
   ]
  },
  {
   "cell_type": "code",
   "execution_count": 30,
   "id": "360f1376-b547-492f-a119-5cd676c39c05",
   "metadata": {},
   "outputs": [],
   "source": [
    "longitude, latitude = hSMAP.get_e2grid(cpuserver_data_FP, 'SPL3SMP.006')"
   ]
  },
  {
   "cell_type": "code",
   "execution_count": 80,
   "id": "0063a9c7-f596-4adf-8bbf-75ebe67d9663",
   "metadata": {},
   "outputs": [
    {
     "data": {
      "text/plain": [
       "array([[ 83.63197528,  83.63197528,  83.63197528, ...,  83.63197528,\n",
       "         83.63197528,  83.63197528],\n",
       "       [ 81.48033093,  81.48033093,  81.48033093, ...,  81.48033093,\n",
       "         81.48033093,  81.48033093],\n",
       "       [ 79.76895872,  79.76895872,  79.76895872, ...,  79.76895872,\n",
       "         79.76895872,  79.76895872],\n",
       "       ...,\n",
       "       [-79.76895872, -79.76895872, -79.76895872, ..., -79.76895872,\n",
       "        -79.76895872, -79.76895872],\n",
       "       [-81.48033093, -81.48033093, -81.48033093, ..., -81.48033093,\n",
       "        -81.48033093, -81.48033093],\n",
       "       [-83.63197528, -83.63197528, -83.63197528, ..., -83.63197528,\n",
       "        -83.63197528, -83.63197528]])"
      ]
     },
     "execution_count": 80,
     "metadata": {},
     "output_type": "execute_result"
    }
   ],
   "source": [
    "latitude"
   ]
  },
  {
   "cell_type": "code",
   "execution_count": 93,
   "id": "39710889-9b6e-48b2-9458-1419a1e276c4",
   "metadata": {},
   "outputs": [],
   "source": [
    "def find_nearest(grid_lat, grid_lon, points_lat, points_lon):\n",
    "    # Ensure the grid coordinates are flattened and paired correctly\n",
    "    grid_points = np.column_stack((grid_lat.ravel(), grid_lon.ravel()))\n",
    "    \n",
    "    # Create a KD-tree for quick nearest-neighbor lookup\n",
    "    tree = cKDTree(grid_points)\n",
    "    \n",
    "    # The points are already 1D, combine into pairs\n",
    "    point_pairs = np.column_stack((points_lat, points_lon))\n",
    "    \n",
    "    # Query the tree for the nearest grid point for each point\n",
    "    _, indices = tree.query(point_pairs)\n",
    "    \n",
    "    # Prepare an array to hold counts that matches the shape of the grid\n",
    "    grid_count = np.zeros(grid_lat.shape, dtype=int)\n",
    "    \n",
    "    # Increment counts in the grid based on where points were found nearest\n",
    "    np.add.at(grid_count.ravel(), indices, 1)\n",
    "    \n",
    "    return grid_count\n",
    "\n",
    "def process_nc_files(nc_files, ref_lat, ref_lon):\n",
    "    # Initialize a cumulative grid count array\n",
    "    cumulative_grid_count = np.zeros(ref_lat.shape, dtype=int)\n",
    "\n",
    "    for file_path in nc_files:\n",
    "        print(f\"Processing {file_path}\")\n",
    "        with nc.Dataset(file_path) as ds:\n",
    "            sp_lat = ds.variables['sp_lat'][:].flatten()\n",
    "            sp_lon = ds.variables['sp_lon'][:].flatten()-180\n",
    "\n",
    "            grid_count = find_nearest(ref_lat, ref_lon, sp_lat, sp_lon)\n",
    "\n",
    "            # Add the current file's grid count to the cumulative grid count\n",
    "            cumulative_grid_count += grid_count\n",
    "\n",
    "    # After all files are processed, return the cumulative grid count\n",
    "    return cumulative_grid_count"
   ]
  },
  {
   "cell_type": "code",
   "execution_count": 94,
   "id": "197682d1-3e87-41f0-a89e-0f1c50b90bea",
   "metadata": {},
   "outputs": [
    {
     "name": "stdout",
     "output_type": "stream",
     "text": [
      "Processing /Users/hyunglokkim/cpuserver_data/CYGNSS/L1_V21/2017.03.18/cyg01.ddmi.s20170318-000000-e20170318-235959.l1.power-brcs.a21.d21.dap.nc4\n",
      "Processing /Users/hyunglokkim/cpuserver_data/CYGNSS/L1_V21/2017.03.18/cyg03.ddmi.s20170318-000000-e20170318-115434.l1.power-brcs.a21.d21.dap.nc4\n",
      "Processing /Users/hyunglokkim/cpuserver_data/CYGNSS/L1_V21/2017.03.18/cyg05.ddmi.s20170318-000000-e20170318-235959.l1.power-brcs.a21.d21.dap.nc4\n",
      "Processing /Users/hyunglokkim/cpuserver_data/CYGNSS/L1_V21/2017.03.18/cyg06.ddmi.s20170318-000000-e20170318-235959.l1.power-brcs.a21.d21.dap.nc4\n",
      "Processing /Users/hyunglokkim/cpuserver_data/CYGNSS/L1_V21/2017.03.18/cyg07.ddmi.s20170318-000000-e20170318-235959.l1.power-brcs.a21.d21.dap.nc4\n",
      "Processing /Users/hyunglokkim/cpuserver_data/CYGNSS/L1_V21/2017.03.18/cyg08.ddmi.s20170318-000000-e20170318-235958.l1.power-brcs.a21.d21.dap.nc4\n",
      "Processing /Users/hyunglokkim/cpuserver_data/CYGNSS/L1_V21/2017.03.19/cyg01.ddmi.s20170319-000000-e20170319-235959.l1.power-brcs.a21.d21.dap.nc4\n",
      "Processing /Users/hyunglokkim/cpuserver_data/CYGNSS/L1_V21/2017.03.19/cyg03.ddmi.s20170319-082930-e20170319-235959.l1.power-brcs.a21.d21.dap.nc4\n",
      "Processing /Users/hyunglokkim/cpuserver_data/CYGNSS/L1_V21/2017.03.19/cyg05.ddmi.s20170319-000000-e20170319-235959.l1.power-brcs.a21.d21.dap.nc4\n",
      "Processing /Users/hyunglokkim/cpuserver_data/CYGNSS/L1_V21/2017.03.19/cyg06.ddmi.s20170319-000001-e20170319-235959.l1.power-brcs.a21.d21.dap.nc4\n",
      "Processing /Users/hyunglokkim/cpuserver_data/CYGNSS/L1_V21/2017.03.19/cyg07.ddmi.s20170319-000000-e20170319-235959.l1.power-brcs.a21.d21.dap.nc4\n",
      "Processing /Users/hyunglokkim/cpuserver_data/CYGNSS/L1_V21/2017.03.19/cyg08.ddmi.s20170319-000000-e20170319-235959.l1.power-brcs.a21.d21.dap.nc4\n",
      "Processing /Users/hyunglokkim/cpuserver_data/CYGNSS/L1_V21/2017.03.20/cyg01.ddmi.s20170320-000000-e20170320-235959.l1.power-brcs.a21.d21.dap.nc4\n",
      "Processing /Users/hyunglokkim/cpuserver_data/CYGNSS/L1_V21/2017.03.20/cyg03.ddmi.s20170320-000000-e20170320-235959.l1.power-brcs.a21.d21.dap.nc4\n",
      "Processing /Users/hyunglokkim/cpuserver_data/CYGNSS/L1_V21/2017.03.20/cyg05.ddmi.s20170320-000000-e20170320-235959.l1.power-brcs.a21.d21.dap.nc4\n",
      "Processing /Users/hyunglokkim/cpuserver_data/CYGNSS/L1_V21/2017.03.20/cyg06.ddmi.s20170320-000000-e20170320-235959.l1.power-brcs.a21.d21.dap.nc4\n",
      "Processing /Users/hyunglokkim/cpuserver_data/CYGNSS/L1_V21/2017.03.20/cyg07.ddmi.s20170320-000000-e20170320-235959.l1.power-brcs.a21.d21.dap.nc4\n",
      "Processing /Users/hyunglokkim/cpuserver_data/CYGNSS/L1_V21/2017.03.20/cyg08.ddmi.s20170320-000000-e20170320-235959.l1.power-brcs.a21.d21.dap.nc4\n",
      "Processing /Users/hyunglokkim/cpuserver_data/CYGNSS/L1_V21/2017.03.21/cyg01.ddmi.s20170321-000000-e20170321-235959.l1.power-brcs.a21.d21.dap.nc4\n",
      "Processing /Users/hyunglokkim/cpuserver_data/CYGNSS/L1_V21/2017.03.21/cyg03.ddmi.s20170321-000000-e20170321-235959.l1.power-brcs.a21.d21.dap.nc4\n",
      "Processing /Users/hyunglokkim/cpuserver_data/CYGNSS/L1_V21/2017.03.21/cyg05.ddmi.s20170321-000000-e20170321-235959.l1.power-brcs.a21.d21.dap.nc4\n",
      "Processing /Users/hyunglokkim/cpuserver_data/CYGNSS/L1_V21/2017.03.21/cyg06.ddmi.s20170321-000000-e20170321-235959.l1.power-brcs.a21.d21.dap.nc4\n",
      "Processing /Users/hyunglokkim/cpuserver_data/CYGNSS/L1_V21/2017.03.21/cyg07.ddmi.s20170321-000000-e20170321-235959.l1.power-brcs.a21.d21.dap.nc4\n",
      "Processing /Users/hyunglokkim/cpuserver_data/CYGNSS/L1_V21/2017.03.21/cyg08.ddmi.s20170321-000000-e20170321-235959.l1.power-brcs.a21.d21.dap.nc4\n",
      "Processing /Users/hyunglokkim/cpuserver_data/CYGNSS/L1_V21/2017.03.22/cyg01.ddmi.s20170322-000000-e20170322-115544.l1.power-brcs.a21.d21.dap.nc4\n",
      "Processing /Users/hyunglokkim/cpuserver_data/CYGNSS/L1_V21/2017.03.22/cyg03.ddmi.s20170322-000000-e20170322-235959.l1.power-brcs.a21.d21.dap.nc4\n",
      "Processing /Users/hyunglokkim/cpuserver_data/CYGNSS/L1_V21/2017.03.22/cyg05.ddmi.s20170322-000000-e20170322-235959.l1.power-brcs.a21.d21.dap.nc4\n",
      "Processing /Users/hyunglokkim/cpuserver_data/CYGNSS/L1_V21/2017.03.22/cyg06.ddmi.s20170322-000000-e20170322-235959.l1.power-brcs.a21.d21.dap.nc4\n",
      "Processing /Users/hyunglokkim/cpuserver_data/CYGNSS/L1_V21/2017.03.22/cyg07.ddmi.s20170322-000000-e20170322-235959.l1.power-brcs.a21.d21.dap.nc4\n",
      "Processing /Users/hyunglokkim/cpuserver_data/CYGNSS/L1_V21/2017.03.22/cyg08.ddmi.s20170322-000000-e20170322-235959.l1.power-brcs.a21.d21.dap.nc4\n"
     ]
    }
   ],
   "source": [
    "cumulative_grid_count = process_nc_files(nc_file_list[0:10], latitude, longitude)"
   ]
  },
  {
   "cell_type": "code",
   "execution_count": 98,
   "id": "1f75fb97-0138-4cd9-82ac-117ec17ec49f",
   "metadata": {},
   "outputs": [
    {
     "data": {
      "text/plain": [
       "<matplotlib.image.AxesImage at 0x16db10b00>"
      ]
     },
     "execution_count": 98,
     "metadata": {},
     "output_type": "execute_result"
    },
    {
     "data": {
      "image/png": "[encoded data removed]",
      "text/plain": [
       "<Figure size 640x480 with 1 Axes>"
      ]
     },
     "metadata": {},
     "output_type": "display_data"
    }
   ],
   "source": [
    "plt.imshow(cumulative_grid_count)"
   ]
  },
  {
   "cell_type": "code",
   "execution_count": 99,
   "id": "8e95d4bf-11fe-464e-a10e-a27f0c640b74",
   "metadata": {},
   "outputs": [
    {
     "data": {
      "text/plain": [
       "array([[     0,      0,      0, ...,      0,      0,      0],\n",
       "       [     0,      0,      0, ...,      0,      0,      0],\n",
       "       [     0,      0,      0, ...,      0,      0,      0],\n",
       "       ...,\n",
       "       [     0,      0,      0, ...,      0,      0,      0],\n",
       "       [     0,      0,      0, ...,      0,      0,      0],\n",
       "       [404354,      0,      0, ...,      0,      0,      0]])"
      ]
     },
     "execution_count": 99,
     "metadata": {},
     "output_type": "execute_result"
    }
   ],
   "source": [
    "cumulative_grid_count"
   ]
  }
 ],
 "metadata": {
  "kernelspec": {
   "display_name": "Python 3 (ipykernel)",
   "language": "python",
   "name": "python3"
  },
  "language_info": {
   "codemirror_mode": {
    "name": "ipython",
    "version": 3
   },
   "file_extension": ".py",
   "mimetype": "text/x-python",
   "name": "python",
   "nbconvert_exporter": "python",
   "pygments_lexer": "ipython3",
   "version": "3.12.0"
  }
 },
 "nbformat": 4,
 "nbformat_minor": 5
}
