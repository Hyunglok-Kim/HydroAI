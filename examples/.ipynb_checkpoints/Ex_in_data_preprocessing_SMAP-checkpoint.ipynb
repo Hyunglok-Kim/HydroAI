{
 "cells": [
  {
   "cell_type": "code",
   "execution_count": 7,
   "id": "b4de9652-f92c-4d19-a3c8-000d83301163",
   "metadata": {},
   "outputs": [],
   "source": [
    "import sys\n",
    "import os\n",
    "import platform\n",
    "import importlib\n",
    "import glob\n",
    "\n",
    "import numpy as np\n",
    "import pandas as pd\n",
    "import netCDF4\n",
    "import datetime\n",
    "\n",
    "if platform.system() == 'Darwin':  # macOS\n",
    "    base_FP = '/Users/hyunglokkim/Insync/hkim@geol.sc.edu/Google_Drive'\n",
    "    cpuserver_data_FP = '/Users/hyunglokkim/cpuserver_data'\n",
    "else:\n",
    "    base_FP = '/data'\n",
    "    cpuserver_data_FP = '/data'\n",
    "sys.path.append(base_FP + '/python_modules')\n",
    "\n",
    "#hydroAI libs\n",
    "import hydroAI.SMAP as hSMAP\n",
    "import hydroAI.Plot as Plot\n",
    "import hydroAI.Data as Data\n",
    "importlib.reload(hSMAP);\n",
    "importlib.reload(Plot);\n",
    "importlib.reload(Data);\n",
    "\n",
    "# Ignore runtime warnings\n",
    "import warnings\n",
    "warnings.filterwarnings(\"ignore\")\n",
    "\n",
    "# Define your directory where to save nc files\n",
    "nc_save_dir = cpuserver_data_FP + '/extracted_nc'"
   ]
  },
  {
   "cell_type": "markdown",
   "id": "1df51c99-09d8-4642-9a31-e814191d284a",
   "metadata": {},
   "source": [
    "## 1. Import and Save SMAPL3 or SMAPL3_E SM data"
   ]
  },
  {
   "cell_type": "code",
   "execution_count": 2,
   "id": "390e921c-1f33-487a-a213-24ad4e9c63d1",
   "metadata": {},
   "outputs": [],
   "source": [
    "# Usage example\n",
    "mission = 'SMAP'\n",
    "mission_product = 'SPL3SMP.008'\n",
    "#mission_product = 'SPL3SMP_E.005'\n",
    "year = 2022\n",
    "directory = os.path.join(cpuserver_data_FP, mission, mission_product)\n",
    "file_list, data_doy = hSMAP.extract_filelist_doy(directory, year) \n",
    "longitude, latitude = hSMAP.get_e2grid(cpuserver_data_FP, mission_product)"
   ]
  },
  {
   "cell_type": "code",
   "execution_count": null,
   "id": "2074e4b6-eecd-4b28-8272-6df37d2e423a",
   "metadata": {},
   "outputs": [],
   "source": [
    "# Usage example - create_array_from_h5\n",
    "group_name = 'Soil_Moisture_Retrieval_Data_AM'\n",
    "\n",
    "variable_name = 'soil_moisture'\n",
    "SMAP_SM_AM, longitude, latitude = hSMAP.create_array_from_h5(file_list, data_doy, year, cpuserver_data_FP,mission_product, variable_name, group_name)\n",
    "variable_name = 'retrieval_qual_flag'\n",
    "SMAP_QF_AM, longitude, latitude = hSMAP.create_array_from_h5(file_list, data_doy, year, cpuserver_data_FP,mission_product, variable_name, group_name)\n",
    "variable_name = 'tb_qual_flag_3'\n",
    "SMAP_tb3_flag_AM, longitude, latitude = hSMAP.create_array_from_h5(file_list, data_doy, year, cpuserver_data_FP,mission_product, variable_name, group_name)\n",
    "variable_name = 'tb_qual_flag_4'\n",
    "SMAP_tb4_flag_AM, longitude, latitude = hSMAP.create_array_from_h5(file_list, data_doy, year, cpuserver_data_FP,mission_product, variable_name, group_name)\n",
    "variable_name = 'soil_moisture_error' \n",
    "SMAP_SM_error_AM, longitude, latitude = hSMAP.create_array_from_h5(file_list, data_doy, year, cpuserver_data_FP,mission_product, variable_name, group_name)\n",
    "variable_name = 'vegetation_water_content' \n",
    "SMAP_VWC_AM, longitude, latitude = hSMAP.create_array_from_h5(file_list, data_doy, year, cpuserver_data_FP,mission_product, variable_name, group_name)"
   ]
  },
  {
   "cell_type": "code",
   "execution_count": null,
   "id": "b42dea5f-d32d-4e0b-8b8e-89d409cdd4ff",
   "metadata": {},
   "outputs": [],
   "source": [
    "# Usage example - create_netcdf_file\n",
    "# SMAPL3 AM\n",
    "nc_file_name = os.path.join(nc_save_dir,mission_product+'_'+str(year)+'_am_ex.nc')\n",
    "\n",
    "hSMAP.create_netcdf_file(\n",
    "    nc_file=nc_file_name, \n",
    "    latitude=latitude, \n",
    "    longitude=longitude, \n",
    "    SMAP_SM_AM=SMAP_SM_AM,\n",
    "    SMAP_QF_AM=SMAP_QF_AM,\n",
    "    SMAP_tb3_flag_AM=SMAP_tb3_flag_AM,\n",
    "    SMAP_tb4_flag_AM=SMAP_tb4_flag_AM,\n",
    "    SMAP_SM_error_AM=SMAP_SM_error_AM,\n",
    "    SMAP_VWC_AM=SMAP_VWC_AM\n",
    ")"
   ]
  },
  {
   "cell_type": "code",
   "execution_count": null,
   "id": "7592c187-0a44-4204-b9e4-11c78b9c21b5",
   "metadata": {},
   "outputs": [],
   "source": [
    "# Loop through everything from 2015 to 2023 for AM/PM data\n",
    "mission = 'SMAP'\n",
    "mission_product = 'SPL3SMP.008'\n",
    "\n",
    "# Ensure the directory for saving NetCDF files exists\n",
    "os.makedirs(os.path.join(cpuserver_data_FP, nc_save_dir), exist_ok=True)\n",
    "\n",
    "# Variables to process\n",
    "variables = [\n",
    "    'soil_moisture',\n",
    "    'retrieval_qual_flag',\n",
    "    'tb_qual_flag_3',\n",
    "    'tb_qual_flag_4',\n",
    "    'soil_moisture_error',\n",
    "    'vegetation_water_content'\n",
    "]\n",
    "\n",
    "for year in range(2015, 2024):\n",
    "    directory = os.path.join(cpuserver_data_FP, mission, mission_product)\n",
    "    file_list, data_doy = hSMAP.extract_filelist_doy(directory, year)\n",
    "    longitude, latitude = hSMAP.get_e2grid(cpuserver_data_FP, mission_product)\n",
    "\n",
    "    # Loop for AM and PM\n",
    "    for suffix in ['AM', 'PM']:\n",
    "        group_name = f'Soil_Moisture_Retrieval_Data_{suffix}'\n",
    "\n",
    "        # Collect data for each variable\n",
    "        data_vars = {}\n",
    "        for var in variables:\n",
    "            variable_name = f\"{var}_{suffix.lower()}\" if suffix == 'PM' else var\n",
    "            data, _, _ = hSMAP.create_array_from_h5(file_list, data_doy, year, cpuserver_data_FP, mission_product, variable_name, group_name)\n",
    "            data_vars[variable_name] = data\n",
    "        \n",
    "        # Save to NetCDF file\n",
    "        nc_file_name = os.path.join(cpuserver_data_FP, nc_save_dir, f'{mission_product}_{year}_{suffix.lower()}.nc')\n",
    "        hSMAP.create_netcdf_file(nc_file=nc_file_name, latitude=latitude, longitude=longitude, **data_vars)\n",
    "        print(f\"Data for {year} {suffix} saved to {nc_file_name}\")"
   ]
  },
  {
   "cell_type": "code",
   "execution_count": null,
   "id": "b1e36ff6-d27e-4b49-b7cb-b8f9e41efbe7",
   "metadata": {},
   "outputs": [],
   "source": [
    "# Display the map with plot_global_map\n",
    "nanmean_SMAP_SM_AM = np.nanmean(SMAP_SM_AM, axis=2)\n",
    "target = nanmean_SMAP_SM_AM\n",
    "Plot.plot_global_map(longitude, latitude, target, 'SMAP SM', np.nanmin(target), np.nanmax(target), 'jet_r')\n",
    " \n",
    "# Display the map with plot_map\n",
    "bound = [125.7, 129.7, 33.9, 38.8] # entire Korea\n",
    "#bound = [126.73, 126.95, 35.17, 35.37] # Gwangju\n",
    "Plot.plot_map(longitude, latitude, target, 'SMAP SM', np.nanmin(target), np.nanmax(target), 'jet_r', bound)"
   ]
  },
  {
   "cell_type": "markdown",
   "id": "e295470b-dbdc-416a-bdcd-6a62c65a55fb",
   "metadata": {},
   "source": [
    "# 2. Resample SMAP data"
   ]
  },
  {
   "cell_type": "markdown",
   "id": "3ba869fc-fb2a-4e15-ad14-2da6157a7149",
   "metadata": {},
   "source": [
    "### 2.1. Load the domain lat/lon"
   ]
  },
  {
   "cell_type": "code",
   "execution_count": 3,
   "id": "0098389a-f371-412d-b9b7-dbbf45a6389e",
   "metadata": {},
   "outputs": [],
   "source": [
    "# Resample SMAP data into GLDAS NOAH 0.25 x 0.25 grid\n",
    "domain_nc_file = cpuserver_data_FP+'/grids/GLDAS_NOAH_025.nc'\n",
    "nc_data = netCDF4.Dataset(domain_nc_file)\n",
    "domain_lon = np.flipud(nc_data.variables['lon'][:]).data\n",
    "domain_lat = np.flipud(nc_data.variables['lat'][:]).data\n",
    "nc_data.close()"
   ]
  },
  {
   "cell_type": "code",
   "execution_count": 4,
   "id": "d71c12ce-cc50-4bfc-b3a6-2b2ea1b566b7",
   "metadata": {},
   "outputs": [],
   "source": [
    "# Resample SMAP data into EASE2 grid\n",
    "#domain_lon, domain_lat = hSMAP.get_e2grid(cpuserver_data_FP, mission_product)"
   ]
  },
  {
   "cell_type": "code",
   "execution_count": 5,
   "id": "b6745d74-2b74-46af-a17e-adc574d07f00",
   "metadata": {},
   "outputs": [],
   "source": [
    "mission = 'SMAP'\n",
    "mission_product = 'SPL3SMP.008'\n",
    "target_projection = 'Noah_025'"
   ]
  },
  {
   "cell_type": "markdown",
   "id": "f4c4047b-6128-4639-9bb3-32f59bf1d856",
   "metadata": {},
   "source": [
    "### 4.2. Resample SMAP data"
   ]
  },
  {
   "cell_type": "code",
   "execution_count": 6,
   "id": "208c2ed0-4acd-45ae-9ecd-1fdc4826ea2c",
   "metadata": {},
   "outputs": [
    {
     "name": "stderr",
     "output_type": "stream",
     "text": [
      "100%|████████████████████████████████████████| 366/366 [00:03<00:00, 107.38it/s]\n",
      "100%|████████████████████████████████████████| 366/366 [00:02<00:00, 145.13it/s]\n"
     ]
    },
    {
     "name": "stdout",
     "output_type": "stream",
     "text": [
      "NetCDF file /Users/hyunglokkim/cpuserver_data/extracted_nc/SPL3SMP.008_2022_pm_R_Noah_025.nc created successfully.\n",
      "Data for 2022 pm saved to /Users/hyunglokkim/cpuserver_data/extracted_nc/SPL3SMP.008_2022_pm_R_Noah_025.nc\n"
     ]
    }
   ],
   "source": [
    "for year in range(2015, 2024):\n",
    "    path_list = ['am','pm']\n",
    "    \n",
    "    for path in path_list:\n",
    "        # resample SMAP into the doamin size\n",
    "        nc_file  = nc_save_dir+'/'+mission_product+'_'+str(year)+'_'+path+'.nc'\n",
    "        nc_data  = netCDF4.Dataset(nc_file)\n",
    "\n",
    "        if path == 'pm':\n",
    "            SMAP_SM  = nc_data.variables['soil_moisture_'+path][:].data\n",
    "            SMAP_QF  = nc_data.variables['retrieval_qual_flag_'+path][:].data.astype(int)\n",
    "        else:\n",
    "            SMAP_SM  = nc_data.variables['soil_moisture'][:].data\n",
    "            SMAP_QF  = nc_data.variables['retrieval_qual_flag'][:].data.astype(int)\n",
    "            \n",
    "        SMAP_lat = nc_data.variables['latitude'][:].data\n",
    "        SMAP_lon = nc_data.variables['longitude'][:].data\n",
    "        nc_data.close()\n",
    "\n",
    "        # Define the mask for \"Retrieval_recommended\"\n",
    "        retrieval_recommended_mask = 1\n",
    "        \n",
    "        # Apply the mask to the retrieval_qual_flag to get a boolean array where True indicates \"Retrieval_recommended\"\n",
    "        retrieval_recommended = (SMAP_QF & retrieval_recommended_mask) != 0\n",
    "\n",
    "        # Use broadcasting to apply the mask across the last dimension of the data_array\n",
    "        SMAP_SM_QC = np.where(retrieval_recommended, SMAP_SM, np.nan)\n",
    "        #SMAP_SM_QC = SMAP_SM\n",
    "        Resampled_SMAP_SM = Data.Resampling_forloop(domain_lat, domain_lon, SMAP_lat, SMAP_lon, SMAP_SM)\n",
    "        Resampled_SMAP_SM_QC = Data.Resampling_forloop(domain_lat, domain_lon, SMAP_lat, SMAP_lon, SMAP_SM_QC)\n",
    "        \n",
    "        # Save to NetCDF file\n",
    "        data_vars = {}\n",
    "        data_vars['Resampled_SMAP_SM'] = Resampled_SMAP_SM\n",
    "        data_vars['Resampled_SMAP_SM_QC'] = Resampled_SMAP_SM_QC\n",
    "        \n",
    "        nc_file_name = os.path.join(cpuserver_data_FP, nc_save_dir, f'{mission_product}_{year}_{path}_R_{target_projection}.nc')\n",
    "        hSMAP.create_netcdf_file(nc_file=nc_file_name, latitude=domain_lat, longitude=domain_lon, **data_vars)\n",
    "        print(f\"Data for {year} {path} saved to {nc_file_name}\")"
   ]
  },
  {
   "cell_type": "code",
   "execution_count": null,
   "id": "d0f306c2-6c40-4526-acf4-decc226c8928",
   "metadata": {},
   "outputs": [],
   "source": [
    "# Check the resampled data\n",
    "doy = 121\n",
    "r_smap = Resampled_SMAP_SM_QC[:,:,doy]\n",
    "Plot.plot_global_map(domain_lon, domain_lat, r_smap, 're_SMAP_SM', 0, 0.5, 'jet_r')\n",
    "smap = SMAP_SM[:,:,doy]\n",
    "Plot.plot_global_map(SMAP_lon, SMAP_lat, smap, 'or_SMAP_SM', 0, 0.5, 'jet_r')"
   ]
  },
  {
   "cell_type": "code",
   "execution_count": 19,
   "id": "ae27fcfc-fa05-4da2-8aef-6b68d236bb33",
   "metadata": {},
   "outputs": [],
   "source": [
    "# Compare the SMAPL3_E- bnad SMAPL3-based Resampling Results\n",
    "year = 2022\n",
    "path = 'am'\n",
    "target_projection = 'Noah_025' \n",
    "\n",
    "mission_product = 'SPL3SMP_E.005'\n",
    "nc_file_name = os.path.join(cpuserver_data_FP, nc_save_dir, f'{mission_product}_{year}_{path}_R_{target_projection}.nc')\n",
    "nc_data = netCDF4.Dataset(nc_file_name)\n",
    "SMAPL3E_R_SM = nc_data.variables['Resampled_SMAP_SM'][:,:, 150].data\n",
    "\n",
    "mission_product = 'SPL3SMP.008'\n",
    "nc_file_name = os.path.join(cpuserver_data_FP, nc_save_dir, f'{mission_product}_{year}_{path}_R_{target_projection}.nc')\n",
    "nc_data = netCDF4.Dataset(nc_file_name)\n",
    "SMAPL3_R_SM = nc_data.variables['Resampled_SMAP_SM'][:,:, 150].data\n",
    "domain_lon = nc_data.variables['longitude'][:].data\n",
    "domain_lat = nc_data.variables['latitude'][:].data\n",
    "\n",
    "mission_product = 'SPL3SMP.008'\n",
    "nc_file_name  = nc_save_dir+'/'+mission_product+'_'+str(year)+'_'+path+'.nc'\n",
    "nc_data = netCDF4.Dataset(nc_file_name)\n",
    "SMAPL3_or_SM = nc_data.variables['soil_moisture'][:,:, 150].data\n",
    "SMAP_lon = nc_data.variables['longitude'][:].data\n",
    "SMAP_lat = nc_data.variables['latitude'][:].data"
   ]
  },
  {
   "cell_type": "code",
   "execution_count": 27,
   "id": "d972f0e6-fa3c-4823-a350-ffed43d1ad5e",
   "metadata": {},
   "outputs": [
    {
     "data": {
      "text/plain": [
       "(600, 1440)"
      ]
     },
     "execution_count": 27,
     "metadata": {},
     "output_type": "execute_result"
    }
   ],
   "source": [
    "SMAPL3_R_SM.shape"
   ]
  }
 ],
 "metadata": {
  "kernelspec": {
   "display_name": "Python 3 (ipykernel)",
   "language": "python",
   "name": "python3"
  },
  "language_info": {
   "codemirror_mode": {
    "name": "ipython",
    "version": 3
   },
   "file_extension": ".py",
   "mimetype": "text/x-python",
   "name": "python",
   "nbconvert_exporter": "python",
   "pygments_lexer": "ipython3",
   "version": "3.12.0"
  }
 },
 "nbformat": 4,
 "nbformat_minor": 5
}
