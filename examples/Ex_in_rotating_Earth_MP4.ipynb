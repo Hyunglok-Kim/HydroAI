{
 "cells": [
  {
   "cell_type": "code",
   "execution_count": 38,
   "metadata": {},
   "outputs": [
    {
     "name": "stdout",
     "output_type": "stream",
     "text": [
      "/home/subin/data\n",
      "/home/subin/cpuserver_data\n"
     ]
    }
   ],
   "source": [
    "import sys\n",
    "import gc\n",
    "import importlib\n",
    "import datetime\n",
    "import numpy as np\n",
    "import netCDF4\n",
    "import platform\n",
    "import os\n",
    "import matplotlib.pyplot as plt\n",
    "import matplotlib.patches as patches\n",
    "import cartopy.crs as ccrs\n",
    "import imageio\n",
    "from tqdm import tqdm\n",
    "\n",
    "# Define path\n",
    "if platform.system() == 'Darwin':  # macOS\n",
    "    base_FP = '/Users/subinkim/data'\n",
    "    cpuserver_data_FP = '/Users/subinkim/cpuserver_data'\n",
    "elif platform.system() == 'Linux':  # Linux systems (Workstation or CPU Server)\n",
    "    base_FP = '/home/subin/data'\n",
    "    cpuserver_data_FP = '/home/subin/cpuserver_data'\n",
    "    if not os.path.exists(cpuserver_data_FP):\n",
    "        cpuserver_data_FP = '/data'\n",
    "\n",
    "print(base_FP)\n",
    "print(cpuserver_data_FP)\n",
    "sys.path.append(base_FP + '/python_modules')\n",
    "\n",
    "import HydroAI.Data as hData\n",
    "import HydroAI.Grid as hGrid\n",
    "import HydroAI.TC_like as hTCL\n",
    "import HydroAI.Plot as hPlot\n",
    "#import HydroAI.Shallow_ML as hSML\n",
    "\n",
    "importlib.reload(hData);\n",
    "importlib.reload(hGrid);\n",
    "importlib.reload(hTCL);\n",
    "importlib.reload(hPlot);\n",
    "#importlib.reload(hSML);\n",
    "\n",
    "import warnings\n",
    "warnings.filterwarnings(\"ignore\")"
   ]
  },
  {
   "cell_type": "markdown",
   "metadata": {},
   "source": [
    "#### 1. Read data"
   ]
  },
  {
   "cell_type": "code",
   "execution_count": 16,
   "metadata": {},
   "outputs": [
    {
     "name": "stdout",
     "output_type": "stream",
     "text": [
      "dict_keys(['latitude', 'longitude', 'SM_subdaily'])\n",
      "(306, 1197, 368)\n",
      "dict_keys(['latitude', 'longitude', 'soil_moisture_3km'])\n",
      "(720, 1440, 92)\n"
     ]
    }
   ],
   "source": [
    "target_year = 2023\n",
    "\n",
    "CYGNSS_data_path = f'{cpuserver_data_FP}/extracted_nc/CYGNSS/UCAR_CU_L3_SM_v1.0/CYGNSS_UCAR_{target_year}_R_Noah_025.nc'\n",
    "with netCDF4.Dataset(CYGNSS_data_path) as nc:\n",
    "    print(nc.variables.keys())\n",
    "    nc_lon_CYGNSS = nc.variables['longitude'][:].data\n",
    "    nc_lat_CYGNSS = nc.variables['latitude'][:].data\n",
    "    SM_CYGNSS = nc.variables['SM_subdaily'][:].data\n",
    "    print(np.shape(SM_CYGNSS))\n",
    "\n",
    "SMAP_Sentinel1_data_path = f'{cpuserver_data_FP}/extracted_nc/SMAP_Sentinel1_L2_{target_year}_6_8_R_Noah_025.nc'\n",
    "with netCDF4.Dataset(SMAP_Sentinel1_data_path) as nc:\n",
    "    print(nc.variables.keys())\n",
    "    nc_lon_SMAP_Sentinel1 = nc.variables['longitude'][:].data\n",
    "    nc_lat_SMAP_Sentinel1 = nc.variables['latitude'][:].data\n",
    "    SM_SMAP_Sentinel1 = nc.variables['soil_moisture_3km'][:].data\n",
    "    print(np.shape(SM_SMAP_Sentinel1))"
   ]
  },
  {
   "cell_type": "code",
   "execution_count": 17,
   "metadata": {},
   "outputs": [
    {
     "name": "stdout",
     "output_type": "stream",
     "text": [
      "dict_keys(['latitude', 'longitude', 'Resampled_ASCAT_SM_gldas'])\n",
      "(720, 1440, 92)\n",
      "(720, 1440, 92)\n",
      "(720, 1440, 184)\n"
     ]
    },
    {
     "data": {
      "text/plain": [
       "143359"
      ]
     },
     "execution_count": 17,
     "metadata": {},
     "output_type": "execute_result"
    }
   ],
   "source": [
    "# Read ASCAT am & pm data\n",
    "ASCAT_am_data_path = f'{cpuserver_data_FP}/extracted_nc/ASCAT_TUW/ASCAT_TUW_{target_year}_am_R_Noah_025.nc'\n",
    "with netCDF4.Dataset(ASCAT_am_data_path) as nc:\n",
    "    print(nc.variables.keys())\n",
    "    nc_lon_ASCAT = nc.variables['longitude'][:].data\n",
    "    nc_lat_ASCAT = nc.variables['latitude'][:].data\n",
    "    SM_ASCAT_am = nc.variables['Resampled_ASCAT_SM_gldas'][:].data\n",
    "\n",
    "ASCAT_pm_data_path = f'{cpuserver_data_FP}/extracted_nc/ASCAT_TUW/ASCAT_TUW_{target_year}_pm_R_Noah_025.nc'\n",
    "with netCDF4.Dataset(ASCAT_pm_data_path) as nc:\n",
    "    SM_ASCAT_pm = nc.variables['Resampled_ASCAT_SM_gldas'][:].data\n",
    "\n",
    "# Only June to August\n",
    "dates = np.array([datetime.date(target_year, 1, 1) + datetime.timedelta(days=i) for i in range(SM_ASCAT_am.shape[2])])\n",
    "mask = np.isin([d.month for d in dates], [6, 7, 8])\n",
    "SM_ASCAT_am = SM_ASCAT_am[:, :, mask]\n",
    "SM_ASCAT_pm = SM_ASCAT_pm[:, :, mask]\n",
    "print(np.shape(SM_ASCAT_am))\n",
    "print(np.shape(SM_ASCAT_pm))\n",
    "\n",
    "SM_ASCAT = np.full((SM_ASCAT_am.shape[0], SM_ASCAT_am.shape[1], 2*SM_ASCAT_am.shape[2]), np.nan)\n",
    "SM_ASCAT[:, :, ::2] = SM_ASCAT_am\n",
    "SM_ASCAT[:, :, 1::2] = SM_ASCAT_pm\n",
    "SM_ASCAT = SM_ASCAT / 100 # Convert to m^3/m^3\n",
    "print(np.shape(SM_ASCAT))\n",
    "\n",
    "# Remove memory\n",
    "del SM_ASCAT_am, SM_ASCAT_pm\n",
    "gc.collect()"
   ]
  },
  {
   "cell_type": "code",
   "execution_count": 18,
   "metadata": {},
   "outputs": [
    {
     "name": "stdout",
     "output_type": "stream",
     "text": [
      "dict_keys(['latitude', 'longitude', 'Resampled_albedo', 'Resampled_albedo_dca', 'Resampled_albedo_scah', 'Resampled_albedo_scav', 'Resampled_boresight_incidence', 'Resampled_bulk_density', 'Resampled_clay_fraction', 'Resampled_freeze_thaw_fraction', 'Resampled_grid_surface_status', 'Resampled_radar_water_body_fraction', 'Resampled_retrieval_qual_flag_dca', 'Resampled_retrieval_qual_flag_scah', 'Resampled_retrieval_qual_flag_scav', 'Resampled_roughness_coefficient', 'Resampled_roughness_coefficient_dca', 'Resampled_roughness_coefficient_scah', 'Resampled_roughness_coefficient_scav', 'Resampled_soil_moisture_dca', 'Resampled_soil_moisture_error', 'Resampled_soil_moisture_scah', 'Resampled_soil_moisture_scav', 'Resampled_static_water_body_fraction', 'Resampled_surface_flag', 'Resampled_surface_temperature', 'Resampled_surface_water_fraction_mb_h', 'Resampled_surface_water_fraction_mb_v', 'Resampled_tb_3_corrected', 'Resampled_tb_4_corrected', 'Resampled_tb_h_corrected', 'Resampled_tb_h_uncorrected', 'Resampled_tb_qual_flag_3', 'Resampled_tb_qual_flag_4', 'Resampled_tb_qual_flag_h', 'Resampled_tb_qual_flag_v', 'Resampled_tb_v_corrected', 'Resampled_tb_v_uncorrected', 'Resampled_vegetation_opacity', 'Resampled_vegetation_opacity_dca', 'Resampled_vegetation_opacity_scah', 'Resampled_vegetation_opacity_scav', 'Resampled_vegetation_water_content', 'Resampled_SMAP_SM', 'Resampled_SMAP_SM_QC'])\n",
      "(600, 1440, 92) (600, 1440, 92) (600, 1440, 92) (600, 1440, 92)\n",
      "(600, 1440, 184) (600, 1440, 184)\n"
     ]
    },
    {
     "data": {
      "text/plain": [
       "60"
      ]
     },
     "execution_count": 18,
     "metadata": {},
     "output_type": "execute_result"
    }
   ],
   "source": [
    "# Read SMAP am & pm data\n",
    "SMAP_am_data_path = f'{cpuserver_data_FP}/extracted_nc/SPL3SMP/SPL3SMP.008_{target_year}_am_R_Noah_025.nc'\n",
    "with netCDF4.Dataset(SMAP_am_data_path) as nc:\n",
    "    print(nc.variables.keys())\n",
    "    nc_lon_SMAP = nc.variables['longitude'][:].data\n",
    "    nc_lat_SMAP = nc.variables['latitude'][:].data\n",
    "    SM_SMAP_am = nc.variables['Resampled_SMAP_SM'][:].data\n",
    "    SM_SMAP_am_QC = nc.variables['Resampled_SMAP_SM_QC'][:].data\n",
    "\n",
    "SMAP_pm_data_path = f'{cpuserver_data_FP}/extracted_nc/SPL3SMP/SPL3SMP.008_{target_year}_pm_R_Noah_025.nc'\n",
    "with netCDF4.Dataset(SMAP_pm_data_path) as nc:\n",
    "    SM_SMAP_pm = nc.variables['Resampled_SMAP_SM'][:].data\n",
    "    SM_SMAP_pm_QC = nc.variables['Resampled_SMAP_SM_QC'][:].data\n",
    "\n",
    "# Only June to August\n",
    "SM_SMAP_am = SM_SMAP_am[:, :, mask]\n",
    "SM_SMAP_pm = SM_SMAP_pm[:, :, mask]\n",
    "SM_SMAP_am_QC = SM_SMAP_am_QC[:, :, mask]\n",
    "SM_SMAP_pm_QC = SM_SMAP_pm_QC[:, :, mask]\n",
    "print(np.shape(SM_SMAP_am), np.shape(SM_SMAP_pm), np.shape(SM_SMAP_am_QC), np.shape(SM_SMAP_pm_QC))\n",
    "\n",
    "# Combine am & pm data\n",
    "SM_SMAP = np.full((SM_SMAP_am.shape[0], SM_SMAP_am.shape[1], 2*SM_SMAP_am.shape[2]), np.nan)\n",
    "SM_SMAP_QC = np.full((SM_SMAP_am.shape[0], SM_SMAP_am.shape[1], 2*SM_SMAP_am.shape[2]), np.nan)\n",
    "SM_SMAP[:, :, ::2] = SM_SMAP_am\n",
    "SM_SMAP[:, :, 1::2] = SM_SMAP_pm\n",
    "SM_SMAP_QC[:, :, ::2] = SM_SMAP_am_QC\n",
    "SM_SMAP_QC[:, :, 1::2] = SM_SMAP_pm_QC\n",
    "print(np.shape(SM_SMAP), np.shape(SM_SMAP_QC))\n",
    "\n",
    "# Remove memory\n",
    "del SM_SMAP_am, SM_SMAP_pm, SM_SMAP_am_QC, SM_SMAP_pm_QC\n",
    "gc.collect()"
   ]
  },
  {
   "cell_type": "markdown",
   "metadata": {},
   "source": [
    "#### 2. Generate MP4 files"
   ]
  },
  {
   "cell_type": "code",
   "execution_count": 29,
   "metadata": {},
   "outputs": [
    {
     "name": "stdout",
     "output_type": "stream",
     "text": [
      "0.02 0.75\n",
      "0.0 0.6499589\n",
      "0.019999999552965164 0.49999943375587463 0.019999999552965164 0.49999943375587463\n",
      "0.0 0.96\n"
     ]
    }
   ],
   "source": [
    "# Check data range\n",
    "print(np.nanmin(SM_SMAP_Sentinel1), np.nanmax(SM_SMAP_Sentinel1))\n",
    "print(np.nanmin(SM_CYGNSS), np.nanmax(SM_CYGNSS))\n",
    "print(np.nanmin(SM_SMAP), np.nanmax(SM_SMAP), np.nanmin(SM_SMAP_QC), np.nanmax(SM_SMAP_QC))\n",
    "print(np.nanmin(SM_ASCAT), np.nanmax(SM_ASCAT))"
   ]
  },
  {
   "cell_type": "code",
   "execution_count": null,
   "metadata": {},
   "outputs": [
    {
     "name": "stdout",
     "output_type": "stream",
     "text": [
      "/home/subin/.env\n"
     ]
    },
    {
     "name": "stderr",
     "output_type": "stream",
     "text": [
      "Rendering frames (MP4):   0%|          | 0/72 [00:00<?, ?it/s]IMAGEIO FFMPEG_WRITER WARNING: input image is not divisible by macro_block_size=16, resizing from (900, 900) to (912, 912) to ensure video compatibility with most codecs and players. To prevent resizing, make your input image divisible by the macro_block_size or set the macro_block_size to 1 (risking incompatibility).\n",
      "Rendering frames (MP4): 100%|██████████| 72/72 [03:42<00:00,  3.09s/it]\n"
     ]
    },
    {
     "name": "stdout",
     "output_type": "stream",
     "text": [
      "MP4 saved to /home/subin/cpuserver_data/extracted_mp4/SMAP_Sentinel1_L2_2023_6_8_R_Noah_025.mp4 (fps=5, codec=libx264)\n"
     ]
    },
    {
     "name": "stderr",
     "output_type": "stream",
     "text": [
      "Rendering frames (MP4):   0%|          | 0/72 [00:00<?, ?it/s]IMAGEIO FFMPEG_WRITER WARNING: input image is not divisible by macro_block_size=16, resizing from (900, 900) to (912, 912) to ensure video compatibility with most codecs and players. To prevent resizing, make your input image divisible by the macro_block_size or set the macro_block_size to 1 (risking incompatibility).\n",
      "Rendering frames (MP4): 100%|██████████| 72/72 [09:46<00:00,  8.15s/it]\n"
     ]
    },
    {
     "name": "stdout",
     "output_type": "stream",
     "text": [
      "MP4 saved to /home/subin/cpuserver_data/extracted_mp4/CYGNSS_UCAR_2023_6_8_R_Noah_025.mp4 (fps=20, codec=libx264)\n"
     ]
    },
    {
     "name": "stderr",
     "output_type": "stream",
     "text": [
      "Rendering frames (MP4):   0%|          | 0/72 [00:00<?, ?it/s]IMAGEIO FFMPEG_WRITER WARNING: input image is not divisible by macro_block_size=16, resizing from (900, 900) to (912, 912) to ensure video compatibility with most codecs and players. To prevent resizing, make your input image divisible by the macro_block_size or set the macro_block_size to 1 (risking incompatibility).\n",
      "Rendering frames (MP4): 100%|██████████| 72/72 [06:38<00:00,  5.54s/it]\n"
     ]
    },
    {
     "name": "stdout",
     "output_type": "stream",
     "text": [
      "MP4 saved to /home/subin/cpuserver_data/extracted_mp4/ASCAT_TUW_2023_6_8_R_Noah_025.mp4 (fps=10, codec=libx264)\n"
     ]
    },
    {
     "name": "stderr",
     "output_type": "stream",
     "text": [
      "Rendering frames (MP4):   0%|          | 0/72 [00:00<?, ?it/s]IMAGEIO FFMPEG_WRITER WARNING: input image is not divisible by macro_block_size=16, resizing from (900, 900) to (912, 912) to ensure video compatibility with most codecs and players. To prevent resizing, make your input image divisible by the macro_block_size or set the macro_block_size to 1 (risking incompatibility).\n",
      "Rendering frames (MP4): 100%|██████████| 72/72 [01:49<00:00,  1.52s/it]\n"
     ]
    },
    {
     "name": "stdout",
     "output_type": "stream",
     "text": [
      "MP4 saved to /home/subin/cpuserver_data/extracted_mp4/SMAP_2023_6_8_R_Noah_025.mp4 (fps=10, codec=libx264)\n"
     ]
    }
   ],
   "source": [
    "# Daily\n",
    "hPlot.generate_MP4_rotating_globe(\n",
    "    nc_lon_SMAP_Sentinel1, nc_lat_SMAP_Sentinel1, data_3d=SM_SMAP_Sentinel1,\n",
    "    vmin=0.1, vmax=0.5,\n",
    "    output_mp4=f'{cpuserver_data_FP}/extracted_mp4/SMAP_Sentinel1_L2_{target_year}_6_8_R_Noah_025.mp4', \n",
    "    plot_title='SMAP/Sentinel-1 SM (Daily)',\n",
    "    cbar_title='SM (m$^3$/m$^3$)',\n",
    "    frame_duration=0.2,                \n",
    "    lons_center=np.tile(np.arange(-180, 180, 10), 2),\n",
    "    init_time_idx=0, time_step=1,\n",
    "    time_length_per_rotation=1,\n",
    "    cmap='jet_r')\n",
    "\n",
    "# Subdaily (6-hourly)\n",
    "hPlot.generate_MP4_rotating_globe(\n",
    "    nc_lon_CYGNSS, nc_lat_CYGNSS, data_3d=SM_CYGNSS,\n",
    "    vmin=0.1, vmax=0.5,\n",
    "    output_mp4=f'{cpuserver_data_FP}/extracted_mp4/CYGNSS_UCAR_{target_year}_6_8_R_Noah_025.mp4', \n",
    "    plot_title='CYGNSS SM (6-hourly)',\n",
    "    cbar_title='SM (m$^3$/m$^3$)',\n",
    "    frame_duration=0.05, # 0.05 for 6-hourly, 0.2 for daily               \n",
    "    lons_center=np.tile(np.arange(-180, 180, 10), 2),\n",
    "    init_time_idx=0, time_step=1,\n",
    "    time_length_per_rotation=4, # 4 for 6-hourly, 1 for daily\n",
    "    cmap='jet_r')\n",
    "\n",
    "# Subdaily (12-hourly)\n",
    "hPlot.generate_MP4_rotating_globe(\n",
    "    nc_lon_ASCAT, nc_lat_ASCAT, data_3d=SM_ASCAT,\n",
    "    vmin=0.1, vmax=0.5,\n",
    "    output_mp4=f'{cpuserver_data_FP}/extracted_mp4/ASCAT_TUW_{target_year}_6_8_R_Noah_025.mp4', \n",
    "    plot_title='ASCAT SM (12-hourly)',\n",
    "    cbar_title='SM (m$^3$/m$^3$)',\n",
    "    frame_duration=0.1, # 0.1 for 12-hourly, 0.2 for daily               \n",
    "    lons_center=np.tile(np.arange(-180, 180, 10), 2),\n",
    "    init_time_idx=0, time_step=1,\n",
    "    time_length_per_rotation=2, # 2 for 12-hourly, 1 for daily\n",
    "    cmap='jet_r')\n",
    "\n",
    "hPlot.generate_MP4_rotating_globe(\n",
    "    nc_lon_SMAP, nc_lat_SMAP, data_3d=SM_SMAP,\n",
    "    vmin=0.1, vmax=0.5,\n",
    "    output_mp4=f'{cpuserver_data_FP}/extracted_mp4/SMAP_{target_year}_6_8_R_Noah_025.mp4', \n",
    "    plot_title='SMAP SM (12-hourly)',\n",
    "    cbar_title='SM (m$^3$/m$^3$)',\n",
    "    frame_duration=0.1, # 0.1 for 12-hourly, 0.2 for daily               \n",
    "    lons_center=np.tile(np.arange(-180, 180, 10), 2),\n",
    "    init_time_idx=0, time_step=1,\n",
    "    time_length_per_rotation=2, # 2 for 12-hourly, 1 for daily\n",
    "    cmap='jet_r')"
   ]
  }
 ],
 "metadata": {
  "kernelspec": {
   "display_name": "hydroAI",
   "language": "python",
   "name": "python3"
  },
  "language_info": {
   "codemirror_mode": {
    "name": "ipython",
    "version": 3
   },
   "file_extension": ".py",
   "mimetype": "text/x-python",
   "name": "python",
   "nbconvert_exporter": "python",
   "pygments_lexer": "ipython3",
   "version": "3.12.11"
  }
 },
 "nbformat": 4,
 "nbformat_minor": 2
}
