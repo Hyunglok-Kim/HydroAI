{
 "cells": [
  {
   "cell_type": "code",
   "execution_count": 1,
   "id": "ea91ae38-33d5-47cf-9f55-6c0e48f13f16",
   "metadata": {},
   "outputs": [],
   "source": [
    "import os\n",
    "import glob\n",
    "\n",
    "from tqdm import tqdm\n",
    "\n",
    "import netCDF4 as nc\n",
    "import numpy as np\n",
    "from scipy.spatial import cKDTree\n",
    "import matplotlib.pyplot as plt\n",
    "import sys\n",
    "import platform\n",
    "import importlib\n",
    "\n",
    "if platform.system() == 'Darwin':  # macOS\n",
    "    base_FP = '/Users/hyunglokkim/Insync/hkim@geol.sc.edu/Google_Drive'\n",
    "    cpuserver_data_FP = '/Users/hyunglokkim/cpuserver_data'\n",
    "else:\n",
    "    base_FP = '/data'\n",
    "    cpuserver_data_FP = '/data'\n",
    "sys.path.append(base_FP + '/python_modules')\n",
    "\n",
    "import HydroAI.Grid as hGrid\n",
    "importlib.reload(hGrid);"
   ]
  },
  {
   "cell_type": "code",
   "execution_count": 2,
   "id": "8a100c04-1ad9-48be-8013-cd316cef7eea",
   "metadata": {},
   "outputs": [],
   "source": [
    "def list_nc_files(base_dir):\n",
    "    # This function will return a list of all .nc files in the directory and its subdirectories\n",
    "    nc_files = []\n",
    "    # Walk through the directory\n",
    "    for root, dirs, files in os.walk(base_dir):\n",
    "        # Filter for .nc files\n",
    "        for file in files:\n",
    "            if file.endswith(\".nc4\"):\n",
    "                full_path = os.path.join(root, file)\n",
    "                nc_files.append(full_path)\n",
    "    \n",
    "    nc_files.sort() \n",
    "    return nc_files\n",
    "\n",
    "base_dir = \"/Users/hyunglokkim/cpuserver_data/CYGNSS/L1_V21\"\n",
    "nc_file_list = list_nc_files(base_dir)"
   ]
  },
  {
   "cell_type": "code",
   "execution_count": 5,
   "id": "360f1376-b547-492f-a119-5cd676c39c05",
   "metadata": {},
   "outputs": [
    {
     "name": "stdout",
     "output_type": "stream",
     "text": [
      "Processing row 0/4872\n",
      "Processing row 100/4872\n",
      "Processing row 200/4872\n",
      "Processing row 300/4872\n",
      "Processing row 400/4872\n",
      "Processing row 500/4872\n",
      "Processing row 600/4872\n",
      "Processing row 700/4872\n",
      "Processing row 800/4872\n",
      "Processing row 900/4872\n",
      "Processing row 1000/4872\n",
      "Processing row 1100/4872\n",
      "Processing row 1200/4872\n",
      "Processing row 1300/4872\n",
      "Processing row 1400/4872\n",
      "Processing row 1500/4872\n",
      "Processing row 1600/4872\n",
      "Processing row 1700/4872\n",
      "Processing row 1800/4872\n",
      "Processing row 1900/4872\n",
      "Processing row 2000/4872\n",
      "Processing row 2100/4872\n",
      "Processing row 2200/4872\n",
      "Processing row 2300/4872\n",
      "Processing row 2400/4872\n",
      "Processing row 2500/4872\n",
      "Processing row 2600/4872\n",
      "Processing row 2700/4872\n",
      "Processing row 2800/4872\n",
      "Processing row 2900/4872\n",
      "Processing row 3000/4872\n",
      "Processing row 3100/4872\n",
      "Processing row 3200/4872\n",
      "Processing row 3300/4872\n",
      "Processing row 3400/4872\n",
      "Processing row 3500/4872\n",
      "Processing row 3600/4872\n",
      "Processing row 3700/4872\n",
      "Processing row 3800/4872\n",
      "Processing row 3900/4872\n",
      "Processing row 4000/4872\n",
      "Processing row 4100/4872\n",
      "Processing row 4200/4872\n",
      "Processing row 4300/4872\n",
      "Processing row 4400/4872\n",
      "Processing row 4500/4872\n",
      "Processing row 4600/4872\n",
      "Processing row 4700/4872\n",
      "Processing row 4800/4872\n"
     ]
    }
   ],
   "source": [
    "#ref_lon, ref_lat = hSMAP.get_e2grid(cpuserver_data_FP, 'SPL3SMP.006')\n",
    "ref_lon, ref_lat = hGrid.generate_lat_lon_e2grid('3km')\n",
    "data_count = np.zeros_like(ref_lat, dtype=int)\n",
    "# Flatten the reference arrays and stack them as [latitude, longitude]\n",
    "ref_points = np.column_stack((ref_lat.flatten(), ref_lon.flatten()))\n",
    "tree = cKDTree(ref_points)"
   ]
  },
  {
   "cell_type": "code",
   "execution_count": null,
   "id": "61270c60-dd19-487d-a679-1b7500f3a27b",
   "metadata": {},
   "outputs": [
    {
     "name": "stderr",
     "output_type": "stream",
     "text": [
      "Processing Files:  95%|████████████████████████████████████▉  | 473/500 [02:47<00:08,  3.36it/s]"
     ]
    }
   ],
   "source": [
    "# Load the first NetCDF file\n",
    "for i, file_name in tqdm(enumerate(nc_file_list[:500]), total=len(nc_file_list[:500]), desc=\"Processing Files\"):\n",
    "    dataset = nc.Dataset(file_name)\n",
    "    # Assume the latitude and longitude variable names are known\n",
    "    sp_lat = dataset.variables['sp_lat'][:].flatten().compressed()\n",
    "    sp_lon = dataset.variables['sp_lon'][:].flatten().compressed() - 180\n",
    "    # Stack satellite latitudes and longitudes\n",
    "    sat_points = np.column_stack((sp_lat, sp_lon))\n",
    "    _, indices = tree.query(sat_points)\n",
    "    \n",
    "    rows, cols = np.unravel_index(indices, ref_lat.shape)\n",
    "\n",
    "    np.add.at(data_count, (rows, cols), 1)"
   ]
  },
  {
   "cell_type": "code",
   "execution_count": null,
   "id": "f398722b-d67a-467f-b600-475c6dc929e0",
   "metadata": {},
   "outputs": [],
   "source": [
    "# Initialize a dictionary to hold lists of sp_inc_angle values for each grid cell\n",
    "from collections import defaultdict\n",
    "angle_data = defaultdict(list)\n",
    "\n",
    "for i, file_name in tqdm(enumerate(nc_file_list[:1000]), total=len(nc_file_list[:1000]), desc=\"Processing Files\"):\n",
    "    dataset = nc.Dataset(file_name)\n",
    "    # Extract latitude, longitude, and incidence angle\n",
    "    sp_lat = dataset.variables['sp_lat'][:].flatten().compressed()\n",
    "    sp_lon = dataset.variables['sp_lon'][:].flatten().compressed() - 180\n",
    "    sp_inc_angle = dataset.variables['sp_inc_angle'][:].flatten().compressed()\n",
    "\n",
    "    # Stack satellite latitudes and longitudes\n",
    "    sat_points = np.column_stack((sp_lat, sp_lon))\n",
    "    _, indices = tree.query(sat_points)\n",
    "\n",
    "    # Get the row and column indices in the reference grid\n",
    "    rows, cols = np.unravel_index(indices, ref_lat.shape)\n",
    "\n",
    "    # Store sp_inc_angle values in the dictionary\n",
    "    for idx, angle in zip(indices, sp_inc_angle):\n",
    "        angle_data[idx].append(angle)"
   ]
  },
  {
   "cell_type": "code",
   "execution_count": null,
   "id": "e81f5310-84dc-4d15-9c4a-92f774d8863b",
   "metadata": {},
   "outputs": [],
   "source": [
    "mean_angles = {idx: np.mean(angles) for idx, angles in angle_data.items()}"
   ]
  },
  {
   "cell_type": "code",
   "execution_count": null,
   "id": "4ba8eee4-658d-43ce-b1a6-1fffecb08abf",
   "metadata": {},
   "outputs": [],
   "source": [
    "plt.hist(angle_data[97857])"
   ]
  },
  {
   "cell_type": "code",
   "execution_count": null,
   "id": "cdb8b1ed-407e-4159-ba0f-8315bca883e0",
   "metadata": {},
   "outputs": [],
   "source": [
    "plt.figure(figsize=(10, 6))\n",
    "#im = plt.imshow(data_count, cmap='viridis')\n",
    "im = plt.imshow(mean_angles, cmap='viridis')\n",
    "plt.colorbar(im)\n",
    "plt.title(\"Visualization of Data Count\")\n",
    "plt.xlabel(\"Longitude Index\")\n",
    "plt.ylabel(\"Latitude Index\")\n",
    "plt.show()"
   ]
  },
  {
   "cell_type": "code",
   "execution_count": null,
   "id": "45efa67b-83ae-40c0-b5c9-63da0ccccba3",
   "metadata": {},
   "outputs": [],
   "source": [
    "import numpy as np\n",
    "import netCDF4 as nc\n",
    "import os\n",
    "from scipy.spatial import cKDTree\n",
    "from multiprocessing import Pool\n",
    "\n",
    "# Make sure you have imported or defined hSMAP.get_e2grid\n",
    "import sys\n",
    "import platform\n",
    "\n",
    "if platform.system() == 'Darwin':  # macOS\n",
    "    base_FP = '/Users/hyunglokkim/Insync/hkim@geol.sc.edu/Google_Drive'\n",
    "    cpuserver_data_FP = '/Users/hyunglokkim/cpuserver_data'\n",
    "else:\n",
    "    base_FP = '/data'\n",
    "    cpuserver_data_FP = '/data'\n",
    "sys.path.append(base_FP + '/python_modules')\n",
    "import HydroAI.SMAP as hSMAP\n",
    "\n",
    "def list_nc_files(base_dir):\n",
    "    nc_files = []\n",
    "    for root, dirs, files in os.walk(base_dir):\n",
    "        for file in files:\n",
    "            if file.endswith(\".nc4\"):\n",
    "                full_path = os.path.join(root, file)\n",
    "                nc_files.append(full_path)\n",
    "    nc_files.sort()\n",
    "    return nc_files\n",
    "\n",
    "def process_file(args):\n",
    "    file_name, ref_points = args\n",
    "    dataset = nc.Dataset(file_name)\n",
    "    sp_lat = dataset.variables['sp_lat'][:].flatten().compressed()\n",
    "    sp_lon = dataset.variables['sp_lon'][:].flatten().compressed() - 180\n",
    "    sat_points = np.column_stack((sp_lat, sp_lon))\n",
    "    \n",
    "    tree = cKDTree(ref_points)\n",
    "    _, indices = tree.query(sat_points)\n",
    "    \n",
    "    # Assuming ref_lat and ref_lon are arranged in a two-dimensional grid\n",
    "    rows, cols = np.unravel_index(indices, (len(ref_lat), len(ref_lon)))\n",
    "\n",
    "    local_data_count = np.zeros((len(ref_lat), len(ref_lon)), dtype=int)\n",
    "    np.add.at(local_data_count, (rows, cols), 1)\n",
    "    return local_data_count\n",
    "\n",
    "def reduce_data_counts(total, addition):\n",
    "    total += addition\n",
    "    return total\n",
    "\n",
    "base_dir = \"/Users/hyunglokkim/cpuserver_data/CYGNSS/L1_V21\"\n",
    "nc_file_list = list_nc_files(base_dir)\n",
    "ref_lon, ref_lat = hSMAP.get_e2grid(cpuserver_data_FP, 'SPL3SMP.006')\n",
    "ref_points = np.column_stack((ref_lat.flatten(), ref_lon.flatten()))\n",
    "\n",
    "if __name__ == '__main__':\n",
    "    \n",
    "    with Pool() as pool:\n",
    "        results = pool.map(process_file, [(file_name, ref_points) for file_name in nc_file_list])\n",
    "        data_count = np.zeros_like(ref_lat, dtype=int)\n",
    "        for result in results:\n",
    "            data_count = reduce_data_counts(data_count, result)\n",
    "\n",
    "    print(\"Data count grid:\", data_count)"
   ]
  },
  {
   "cell_type": "code",
   "execution_count": null,
   "id": "29ee28c3-a5de-480a-b94f-803b52976194",
   "metadata": {},
   "outputs": [],
   "source": [
    "plt.imshow(data_count)"
   ]
  },
  {
   "cell_type": "code",
   "execution_count": null,
   "id": "3d7db0ee-d975-44d3-b700-44186e336717",
   "metadata": {},
   "outputs": [],
   "source": [
    "longitudes, latitudes = hGrid.generate_lat_lon_e2grid('3km')"
   ]
  },
  {
   "cell_type": "code",
   "execution_count": null,
   "id": "b55ca9c2-30cf-4bf4-827c-867c2609923e",
   "metadata": {},
   "outputs": [],
   "source": [
    "longitudes.shape"
   ]
  },
  {
   "cell_type": "code",
   "execution_count": null,
   "id": "3c7e4203-264b-4ba9-b3b4-cfda3d04d9b4",
   "metadata": {},
   "outputs": [],
   "source": [
    "ref_lon"
   ]
  },
  {
   "cell_type": "code",
   "execution_count": null,
   "id": "dfb1bd3f-9d61-4b8a-8761-0b64ed1fc08d",
   "metadata": {},
   "outputs": [],
   "source": [
    "class EASE2GRID:\n",
    "    grid_params = {\n",
    "        '1km': {'epsg': 6933, 'x_min': -17367530.44, 'y_max': 7314540.83, 'res': 1000.9, 'n_cols': 34704, 'n_rows': 14616},\n",
    "        '3km': {'epsg': 6933, 'x_min': -17367530.44, 'y_max': 7314540.83, 'res': 3002.69, 'n_cols': 11568, 'n_rows': 4872},\n",
    "        '3.125km': {'epsg': 6933, 'x_min': -17367530.44, 'y_max': 7307375.92, 'res': 3128.16, 'n_cols': 11104, 'n_rows': 4672},\n",
    "        '6.25km': {'epsg': 6933, 'x_min': -17367530.44, 'y_max': 7307375.92, 'res': 6256.32, 'n_cols': 5552, 'n_rows': 2336},\n",
    "        '9km': {'epsg': 6933, 'x_min': -17367530.44, 'y_max': 7314540.83, 'res': 9008.05, 'n_cols': 3856, 'n_rows': 1624},\n",
    "        '12.5km': {'epsg': 6933, 'x_min': -17367530.44, 'y_max': 7307375.92, 'res': 12512.63, 'n_cols': 2776, 'n_rows': 1168},\n",
    "        '25km': {'epsg': 6933, 'x_min': -17367530.44, 'y_max': 7307375.92, 'res': 25025.26, 'n_cols': 1388, 'n_rows': 584},\n",
    "        '36km': {'epsg': 6933, 'x_min': -17367530.44, 'y_max': 7314540.83, 'res': 36032.22, 'n_cols': 964, 'n_rows': 406}\n",
    "    }\n",
    "\n",
    "    def __init__(self, resolution):\n",
    "        if resolution not in self.grid_params:\n",
    "            raise ValueError(f\"Unsupported resolution: {resolution}\")\n",
    "\n",
    "        params = self.grid_params[resolution]\n",
    "        self.name = f'EASE2_G{resolution}'\n",
    "        self.epsg = params['epsg']\n",
    "        self.x_min = params['x_min']\n",
    "        self.y_max = params['y_max']\n",
    "        self.res = params['res']\n",
    "        self.n_cols = params['n_cols']\n",
    "        self.n_rows = params['n_rows']\n",
    "\n",
    "    # Assume rc2lonlat is already defined within this class and uses the attributes set above\n",
    "\n",
    "# Example usage:\n",
    "grid = EASE2GRID('3km')\n",
    "lon, lat = grid.rc2lonlat(col=1, row=0)\n",
    "print(f\"Longitude: {lon}, Latitude: {lat}\")"
   ]
  }
 ],
 "metadata": {
  "kernelspec": {
   "display_name": "Python 3 (ipykernel)",
   "language": "python",
   "name": "python3"
  },
  "language_info": {
   "codemirror_mode": {
    "name": "ipython",
    "version": 3
   },
   "file_extension": ".py",
   "mimetype": "text/x-python",
   "name": "python",
   "nbconvert_exporter": "python",
   "pygments_lexer": "ipython3",
   "version": "3.12.0"
  }
 },
 "nbformat": 4,
 "nbformat_minor": 5
}
