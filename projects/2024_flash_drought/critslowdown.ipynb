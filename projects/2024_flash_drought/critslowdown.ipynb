{
 "cells": [
  {
   "cell_type": "code",
   "execution_count": null,
   "id": "c269172f-b569-48f5-ad5d-2ba350197035",
   "metadata": {},
   "outputs": [],
   "source": [
    "import numpy as np\n",
    "from scipy.stats import pearsonr, spearmanr, kendalltau\n",
    "from multiprocessing import Pool, cpu_count\n",
    "\n",
    "def critslowdown(data, win_size, lag_size, cor_type):\n",
    "    # Computing Lag Auto-Correlation (LAC)\n",
    "    lac = np.full(len(data), np.nan)\n",
    "    \n",
    "    for t in range(win_size + lag_size, len(data)):\n",
    "        if cor_type == 'Pearson':\n",
    "            lac[t] = pearsonr(data[t-win_size+lag_size:t], data[t-win_size:t-lag_size])[0]\n",
    "        elif cor_type == 'Spearman':\n",
    "            lac[t] = spearmanr(data[t-win_size+lag_size:t], data[t-win_size:t-lag_size])[0]\n",
    "        elif cor_type == 'Kendall':\n",
    "            lac[t] = kendalltau(data[t-win_size+lag_size:t], data[t-win_size:t-lag_size])[0]\n",
    "    \n",
    "    return lac\n",
    "\n",
    "def critslowdown3(data, win_size, lag_size, cor_type):\n",
    "    lat, lon, time = data.shape\n",
    "    data_2d = data.reshape((lat * lon, time)).T\n",
    "    \n",
    "    def process_pixel(npix):\n",
    "        if np.count_nonzero(~np.isnan(data_2d[:, npix])) == 0:\n",
    "            return np.full(time, np.nan)\n",
    "        else:\n",
    "            return critslowdown(data_2d[:, npix], win_size, lag_size, cor_type)\n",
    "    \n",
    "    with Pool(cpu_count()) as pool:\n",
    "        lac_2d = pool.map(process_pixel, range(data_2d.shape[1]))\n",
    "    \n",
    "    lac_2d = np.array(lac_2d).T\n",
    "    lac = lac_2d.reshape((time, lat, lon)).transpose((1, 2, 0))\n",
    "    \n",
    "    return lac\n",
    "\n",
    "#Example usage:\n",
    "DATA = np.random.rand(10, 10, 100)  # Example 3D data array (LAT, LON, TIME)\n",
    "WIN_SIZE = 5\n",
    "LAG_SIZE = 1\n",
    "COR_TYPE = 'Pearson'\n",
    "LAC = critslowdown3(DATA, WIN_SIZE, LAG_SIZE, COR_TYPE)\n"
   ]
  }
 ],
 "metadata": {
  "kernelspec": {
   "display_name": "Python 3 (ipykernel)",
   "language": "python",
   "name": "python3"
  },
  "language_info": {
   "codemirror_mode": {
    "name": "ipython",
    "version": 3
   },
   "file_extension": ".py",
   "mimetype": "text/x-python",
   "name": "python",
   "nbconvert_exporter": "python",
   "pygments_lexer": "ipython3",
   "version": "3.12.4"
  }
 },
 "nbformat": 4,
 "nbformat_minor": 5
}
