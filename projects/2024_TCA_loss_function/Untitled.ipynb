{
 "cells": [
  {
   "cell_type": "code",
   "execution_count": null,
   "id": "cea58d4e-f188-4791-9f7d-ff86be81b3a4",
   "metadata": {},
   "outputs": [],
   "source": [
    "# Define and train the diffusion model\n",
    "timesteps = 1000\n",
    "unet_model = UNet1D(in_channels=1, out_channels=1)\n",
    "diffusion_model = DiffusionModel(model=unet_model, timesteps=timesteps, beta_start=0.1, beta_end=0.02)\n",
    "\n",
    "# Train the diffusion model\n",
    "perturbed_X = diffusion_model.train(X_tensor_reshaped, Y_tensor_reshaped, Z_tensor_reshaped)\n",
    "\n",
    "# Reshape the perturbed X back for comparison\n",
    "perturbed_X = perturbed_X.squeeze(1)"
   ]
  }
 ],
 "metadata": {
  "kernelspec": {
   "display_name": "Python 3 (ipykernel)",
   "language": "python",
   "name": "python3"
  },
  "language_info": {
   "codemirror_mode": {
    "name": "ipython",
    "version": 3
   },
   "file_extension": ".py",
   "mimetype": "text/x-python",
   "name": "python",
   "nbconvert_exporter": "python",
   "pygments_lexer": "ipython3",
   "version": "3.12.4"
  }
 },
 "nbformat": 4,
 "nbformat_minor": 5
}
